{
  "nbformat": 4,
  "nbformat_minor": 0,
  "metadata": {
    "colab": {
      "provenance": []
    },
    "kernelspec": {
      "name": "python3",
      "display_name": "Python 3"
    },
    "language_info": {
      "name": "python"
    }
  },
  "cells": [
    {
      "cell_type": "code",
      "source": [
        "from google.colab import drive\n",
        "drive.mount('/content/drive')"
      ],
      "metadata": {
        "colab": {
          "base_uri": "https://localhost:8080/"
        },
        "id": "EJD2uJasoG-b",
        "outputId": "1f186992-d6fe-45b0-a5c5-745538ce3316"
      },
      "execution_count": null,
      "outputs": [
        {
          "output_type": "stream",
          "name": "stdout",
          "text": [
            "Drive already mounted at /content/drive; to attempt to forcibly remount, call drive.mount(\"/content/drive\", force_remount=True).\n"
          ]
        }
      ]
    },
    {
      "cell_type": "code",
      "execution_count": null,
      "metadata": {
        "id": "Gg2xdIsdFjJS"
      },
      "outputs": [],
      "source": [
        "import torch\n",
        "import torch.nn as nn\n",
        "import torch.optim as optim\n",
        "from torchvision import transforms\n",
        "from torch.utils.data import DataLoader, Dataset\n",
        "from PIL import Image\n",
        "import os"
      ]
    },
    {
      "cell_type": "code",
      "source": [
        "# Dataset Class\n",
        "class RetinalDataset(Dataset):\n",
        "    def __init__(self, image_dir, mask_dir, transform=None):\n",
        "        self.image_dir = image_dir\n",
        "        self.mask_dir = mask_dir\n",
        "        self.transform = transform\n",
        "        self.images = os.listdir(image_dir)\n",
        "\n",
        "    def __len__(self):\n",
        "        return len(self.images)\n",
        "\n",
        "    def __getitem__(self, idx):\n",
        "        img_name = self.images[idx]\n",
        "        img_path = os.path.join(self.image_dir, img_name)\n",
        "        mask_path = os.path.join(self.mask_dir, img_name)\n",
        "        image = Image.open(img_path).convert(\"RGB\")\n",
        "        mask = Image.open(mask_path).convert(\"L\")  # Assuming mask is in grayscale\n",
        "\n",
        "        if self.transform:\n",
        "            image = self.transform(image)\n",
        "            mask = self.transform(mask)\n",
        "\n",
        "        return image, mask\n",
        "\n"
      ],
      "metadata": {
        "id": "3XdRlENFnR7T"
      },
      "execution_count": null,
      "outputs": []
    },
    {
      "cell_type": "code",
      "source": [
        "# U-Net Block\n",
        "class UNetBlock(nn.Module):\n",
        "    def __init__(self, in_channels, out_channels):\n",
        "        super(UNetBlock, self).__init__()\n",
        "        self.conv = nn.Sequential(\n",
        "            nn.Conv2d(in_channels, out_channels, kernel_size=3, padding=1),\n",
        "            nn.ReLU(inplace=True),\n",
        "            nn.Conv2d(out_channels, out_channels, kernel_size=3, padding=1),\n",
        "            nn.ReLU(inplace=True)\n",
        "        )\n",
        "\n",
        "    def forward(self, x):\n",
        "        return self.conv(x)\n",
        "\n",
        "# U-Net Model\n",
        "class UNet(nn.Module):\n",
        "    def __init__(self):\n",
        "        super(UNet, self).__init__()\n",
        "        self.down1 = UNetBlock(3, 64)\n",
        "        self.down2 = UNetBlock(64, 128)\n",
        "        self.down3 = UNetBlock(128, 256)\n",
        "        self.down4 = UNetBlock(256, 512)\n",
        "\n",
        "        self.pool = nn.MaxPool2d(2, 2)\n",
        "        self.up4 = nn.ConvTranspose2d(512, 256, kernel_size=2, stride=2)\n",
        "        self.up3 = nn.ConvTranspose2d(256, 128, kernel_size=2, stride=2)\n",
        "        self.up2 = nn.ConvTranspose2d(128, 64, kernel_size=2, stride=2)\n",
        "        self.up1 = nn.Conv2d(64, 1, kernel_size=1)\n",
        "\n",
        "    def forward(self, x):\n",
        "        d1 = self.down1(x)\n",
        "        p1 = self.pool(d1)\n",
        "        d2 = self.down2(p1)\n",
        "        p2 = self.pool(d2)\n",
        "        d3 = self.down3(p2)\n",
        "        p3 = self.pool(d3)\n",
        "        d4 = self.down4(p3)\n",
        "\n",
        "        up4 = self.up4(d4)\n",
        "        up4 = up4 + d3  # skip connection\n",
        "        up3 = self.up3(up4)\n",
        "        up3 = up3 + d2  # skip connection\n",
        "        up2 = self.up2(up3)\n",
        "        up2 = up2 + d1  # skip connection\n",
        "        output = self.up1(up2)\n",
        "        return torch.sigmoid(output)  # output between 0 and 1\n"
      ],
      "metadata": {
        "id": "poOFFl8bnWBT"
      },
      "execution_count": null,
      "outputs": []
    },
    {
      "cell_type": "code",
      "source": [
        "# Example Usage\n",
        "if __name__ == '__main__':\n",
        "    transform = transforms.Compose([\n",
        "        transforms.Resize((256, 256)),\n",
        "        transforms.ToTensor(),\n",
        "    ])\n",
        "    train_dataset = RetinalDataset(image_dir='/content/drive/MyDrive/Image Segmentation Data/train/image', mask_dir='/content/drive/MyDrive/Image Segmentation Data/train/mask', transform=transform)\n",
        "    test_dataset = RetinalDataset(image_dir='/content/drive/MyDrive/Image Segmentation Data/test/image', mask_dir='/content/drive/MyDrive/Image Segmentation Data/test/mask', transform=transform)\n",
        "\n",
        "    train_dataloader = DataLoader(train_dataset, batch_size=4, shuffle=True)\n",
        "    test_dataloader = DataLoader(test_dataset, batch_size=4, shuffle=True)\n",
        "\n",
        "    model = UNet()\n",
        "    criterion = nn.BCEWithLogitsLoss()\n",
        "    optimizer = optim.Adam(model.parameters(), lr=0.001)\n",
        "\n",
        "    # Training loop\n",
        "    for epoch in range(10):\n",
        "        for images, masks in train_dataloader:\n",
        "            optimizer.zero_grad()\n",
        "            outputs = model(images)\n",
        "            loss = criterion(outputs, masks)\n",
        "            loss.backward()\n",
        "            optimizer.step()\n",
        "        print(f'Epoch {epoch+1}, Loss: {loss.item()}')\n"
      ],
      "metadata": {
        "id": "JJkvGhA6nYvU"
      },
      "execution_count": null,
      "outputs": []
    }
  ]
}